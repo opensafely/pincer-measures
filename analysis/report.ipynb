{
 "cells": [
  {
   "cell_type": "markdown",
   "id": "9d83c26b",
   "metadata": {},
   "source": [
    "<h1 align=\"center\">Changes in PINCER measures during the pandemic</h1>\n",
    "\n",
    "Pharmacist-led information technology intervention (PINCER) is an effective way to reduce errors in prescription and medication monitoring which are responsible for a large proportion of adverse drug events. This is achieved through the monitoring of 12 PINCER measures.\n",
    "\n",
    "The purpose of this notebook is observe changes in adherence to each of the PINCER measures at the practice level during the pandemic.  For each of these measures we provide a link to the codelist containing all the codes used for that measure, a description of what the measure is and a brief overview of why the measure is important. A summary of the number of events for each measure is produced and monthly rates of recorded activity for each measure is plotted as a decile chart.\n",
    "\n",
    "The 12 PINCER measures include:\n",
    "* ### [Gastrointestinal (GI) Bleed Indicators](#gi_bleed)\n",
    "    * [Age 65+, on oral NSAID without gastroprotection (GI_P3A)](#a)\n",
    "    * [H/O peptic ulcer, on oral NSAID without gastroprotection (GI_P3B)](#b)\n",
    "    * [H/O peptic ulcer, on OAC without gastroprotection (GI_P3C)](#c)\n",
    "    * [On OAC and oral NSAID (GI_P3D)](#d)\n",
    "    * [On OAC and antiplatelet without gastroprotection (GI_P3E)](#e)\n",
    "    * [On aspirin and antiplatelet without gastroprotection (GI_P3F)](#f)\n",
    "* ### [Monitoring Indicators](#monitoring)\n",
    "    * [Age 75+, on ACEI or loop, no renal function/electrolytes test (MO_P13)](#ac)\n",
    "    * [Methotrexate audit (MO_P15)](#me)\n",
    "        * [On methotrexate without recorded full blood count (FBC)](#me_no_fbc)\n",
    "        * [On methotrexate without recorded liver functon test (LFT)](#me_no_lft)\n",
    "    * [On lithium without recent lithium test (MO_P17)](#li)\n",
    "    * [On amiodarone without recent thyroid function test (TFT) (MO_P18)](#am)\n",
    "* ### [Other Indicators](#other)\n",
    "    * [Asthma and non-selective BB (AS_P3G)](#g)\n",
    "    * [Heart failure and oral NSAID (HF_P3I)](#i)\n",
    "    * [eGFR <45 and oral NSAID (KI_P3K)](#k)\n",
    "    \n",
    "There are also a set of [composite indicators](#composites) which indicate the number of people with 1 or more of each of the broad measure categories:\n",
    "* ### [GI Bleed Composite Indicator](#composite_gi_bleed)\n",
    "* ### [Monitoring Composite Indicator](#composite_monitoring)\n",
    "* ### [Other Composite Indicator](#composite_other)\n",
    "* ### [Combined Composite Indicator](#composite_all)"
   ]
  },
  {
   "cell_type": "code",
   "execution_count": 1,
   "id": "800750b1",
   "metadata": {},
   "outputs": [
    {
     "ename": "ModuleNotFoundError",
     "evalue": "No module named 'cohortextractor'",
     "output_type": "error",
     "traceback": [
      "\u001b[0;31m---------------------------------------------------------------------------\u001b[0m",
      "\u001b[0;31mModuleNotFoundError\u001b[0m                       Traceback (most recent call last)",
      "\u001b[0;32m<ipython-input-1-6d3178d4d479>\u001b[0m in \u001b[0;36m<module>\u001b[0;34m\u001b[0m\n\u001b[1;32m      1\u001b[0m \u001b[0;32mimport\u001b[0m \u001b[0mpandas\u001b[0m \u001b[0;32mas\u001b[0m \u001b[0mpd\u001b[0m\u001b[0;34m\u001b[0m\u001b[0;34m\u001b[0m\u001b[0m\n\u001b[1;32m      2\u001b[0m \u001b[0;32mfrom\u001b[0m \u001b[0mIPython\u001b[0m\u001b[0;34m.\u001b[0m\u001b[0mdisplay\u001b[0m \u001b[0;32mimport\u001b[0m \u001b[0mImage\u001b[0m\u001b[0;34m\u001b[0m\u001b[0;34m\u001b[0m\u001b[0m\n\u001b[0;32m----> 3\u001b[0;31m \u001b[0;32mfrom\u001b[0m \u001b[0mcalculate_measures\u001b[0m \u001b[0;32mimport\u001b[0m \u001b[0mdemographics\u001b[0m\u001b[0;34m\u001b[0m\u001b[0;34m\u001b[0m\u001b[0m\n\u001b[0m\u001b[1;32m      4\u001b[0m \u001b[0;34m\u001b[0m\u001b[0m\n\u001b[1;32m      5\u001b[0m \u001b[0mindicators_list\u001b[0m \u001b[0;34m=\u001b[0m \u001b[0;34m[\u001b[0m\u001b[0;34m\"a\"\u001b[0m\u001b[0;34m,\u001b[0m \u001b[0;34m\"b\"\u001b[0m\u001b[0;34m,\u001b[0m \u001b[0;34m\"c\"\u001b[0m\u001b[0;34m,\u001b[0m \u001b[0;34m\"d\"\u001b[0m\u001b[0;34m,\u001b[0m \u001b[0;34m\"e\"\u001b[0m\u001b[0;34m,\u001b[0m \u001b[0;34m\"f\"\u001b[0m\u001b[0;34m,\u001b[0m \u001b[0;34m\"g\"\u001b[0m\u001b[0;34m,\u001b[0m \u001b[0;34m\"i\"\u001b[0m\u001b[0;34m,\u001b[0m \u001b[0;34m\"k\"\u001b[0m\u001b[0;34m,\u001b[0m \u001b[0;34m\"ac\"\u001b[0m\u001b[0;34m,\u001b[0m \u001b[0;34m\"me_no_fbc\"\u001b[0m\u001b[0;34m,\u001b[0m \u001b[0;34m\"me_no_lft\"\u001b[0m\u001b[0;34m,\u001b[0m \u001b[0;34m\"li\"\u001b[0m\u001b[0;34m,\u001b[0m \u001b[0;34m\"am\"\u001b[0m\u001b[0;34m]\u001b[0m\u001b[0;34m\u001b[0m\u001b[0;34m\u001b[0m\u001b[0m\n",
      "\u001b[0;32m~/Documents/DataLab/projects/pincer-measures/analysis/calculate_measures.py\u001b[0m in \u001b[0;36m<module>\u001b[0;34m\u001b[0m\n\u001b[1;32m      1\u001b[0m \u001b[0;32mimport\u001b[0m \u001b[0mpandas\u001b[0m \u001b[0;32mas\u001b[0m \u001b[0mpd\u001b[0m\u001b[0;34m\u001b[0m\u001b[0;34m\u001b[0m\u001b[0m\n\u001b[1;32m      2\u001b[0m \u001b[0;32mfrom\u001b[0m \u001b[0mutilities\u001b[0m \u001b[0;32mimport\u001b[0m \u001b[0mOUTPUT_DIR\u001b[0m\u001b[0;34m,\u001b[0m \u001b[0mmatch_input_files\u001b[0m\u001b[0;34m,\u001b[0m \u001b[0mget_date_input_file\u001b[0m\u001b[0;34m,\u001b[0m \u001b[0mcalculate_rate\u001b[0m\u001b[0;34m,\u001b[0m \u001b[0mredact_small_numbers\u001b[0m\u001b[0;34m\u001b[0m\u001b[0;34m\u001b[0m\u001b[0m\n\u001b[0;32m----> 3\u001b[0;31m \u001b[0;32mfrom\u001b[0m \u001b[0mstudy_definition\u001b[0m \u001b[0;32mimport\u001b[0m \u001b[0mindicators_list\u001b[0m\u001b[0;34m\u001b[0m\u001b[0;34m\u001b[0m\u001b[0m\n\u001b[0m\u001b[1;32m      4\u001b[0m \u001b[0;34m\u001b[0m\u001b[0m\n\u001b[1;32m      5\u001b[0m \u001b[0mdemographics\u001b[0m \u001b[0;34m=\u001b[0m \u001b[0;34m[\u001b[0m\u001b[0;34m\"age_band\"\u001b[0m\u001b[0;34m,\u001b[0m \u001b[0;34m\"sex\"\u001b[0m\u001b[0;34m,\u001b[0m \u001b[0;34m\"region\"\u001b[0m\u001b[0;34m,\u001b[0m \u001b[0;34m\"imd\"\u001b[0m\u001b[0;34m,\u001b[0m \u001b[0;34m\"care_home_type\"\u001b[0m\u001b[0;34m]\u001b[0m\u001b[0;34m\u001b[0m\u001b[0;34m\u001b[0m\u001b[0m\n",
      "\u001b[0;32m~/Documents/DataLab/projects/pincer-measures/analysis/study_definition.py\u001b[0m in \u001b[0;36m<module>\u001b[0;34m\u001b[0m\n\u001b[0;32m----> 1\u001b[0;31m from cohortextractor import (\n\u001b[0m\u001b[1;32m      2\u001b[0m     \u001b[0mStudyDefinition\u001b[0m\u001b[0;34m,\u001b[0m\u001b[0;34m\u001b[0m\u001b[0;34m\u001b[0m\u001b[0m\n\u001b[1;32m      3\u001b[0m     \u001b[0mpatients\u001b[0m\u001b[0;34m,\u001b[0m\u001b[0;34m\u001b[0m\u001b[0;34m\u001b[0m\u001b[0m\n\u001b[1;32m      4\u001b[0m     \u001b[0mMeasure\u001b[0m\u001b[0;34m\u001b[0m\u001b[0;34m\u001b[0m\u001b[0m\n\u001b[1;32m      5\u001b[0m )\n",
      "\u001b[0;31mModuleNotFoundError\u001b[0m: No module named 'cohortextractor'"
     ]
    }
   ],
   "source": [
    "import pandas as pd\n",
    "from IPython.display import Image"
   ]
  },
  {
   "cell_type": "markdown",
   "id": "4798dba6",
   "metadata": {},
   "source": [
    "<a id=\"gi_bleed\"></a>\n",
    "## Gastrointestinal (GI) Bleed Indicators\n"
   ]
  },
  {
   "cell_type": "markdown",
   "id": "7fc6c3fc",
   "metadata": {},
   "source": [
    "<a id=\"a\"></a>\n",
    "### Age 65+, on oral NSAID without gastroprotection (GI_P3A)"
   ]
  },
  {
   "cell_type": "code",
   "execution_count": 2,
   "id": "9658659c",
   "metadata": {},
   "outputs": [
    {
     "data": {
      "text/html": [
       "<img src=\"../output/plot_a.jpeg\"/>"
      ],
      "text/plain": [
       "<IPython.core.display.Image object>"
      ]
     },
     "execution_count": 2,
     "metadata": {},
     "output_type": "execute_result"
    }
   ],
   "source": [
    "Image(url= \"../output/plot_a.jpeg\")"
   ]
  },
  {
   "cell_type": "markdown",
   "id": "db6e3298",
   "metadata": {},
   "source": [
    "<a id=\"b\"></a>\n",
    "### H/O peptic ulcer, on oral NSAID without gastroprotection (GI_P3B)"
   ]
  },
  {
   "cell_type": "code",
   "execution_count": 3,
   "id": "cc9c4032",
   "metadata": {},
   "outputs": [
    {
     "data": {
      "text/html": [
       "<img src=\"../output/plot_b.jpeg\"/>"
      ],
      "text/plain": [
       "<IPython.core.display.Image object>"
      ]
     },
     "execution_count": 3,
     "metadata": {},
     "output_type": "execute_result"
    }
   ],
   "source": [
    "Image(url= \"../output/plot_b.jpeg\")"
   ]
  },
  {
   "cell_type": "markdown",
   "id": "d44a6a08",
   "metadata": {},
   "source": [
    "<a id=\"c\"></a>\n",
    "### H/O peptic ulcer, on OAC without gastroprotection (GI_P3C)"
   ]
  },
  {
   "cell_type": "code",
   "execution_count": 4,
   "id": "654b7641",
   "metadata": {},
   "outputs": [
    {
     "data": {
      "text/html": [
       "<img src=\"../output/plot_c.jpeg\"/>"
      ],
      "text/plain": [
       "<IPython.core.display.Image object>"
      ]
     },
     "execution_count": 4,
     "metadata": {},
     "output_type": "execute_result"
    }
   ],
   "source": [
    "Image(url= \"../output/plot_c.jpeg\")"
   ]
  },
  {
   "cell_type": "markdown",
   "id": "15fed5c9",
   "metadata": {},
   "source": [
    "<a id=\"d\"></a>\n",
    "### On OAC and oral NSAID (GI_P3D)"
   ]
  },
  {
   "cell_type": "code",
   "execution_count": 5,
   "id": "a454c28a",
   "metadata": {},
   "outputs": [
    {
     "data": {
      "text/html": [
       "<img src=\"../output/plot_d.jpeg\"/>"
      ],
      "text/plain": [
       "<IPython.core.display.Image object>"
      ]
     },
     "execution_count": 5,
     "metadata": {},
     "output_type": "execute_result"
    }
   ],
   "source": [
    "Image(url= \"../output/plot_d.jpeg\")"
   ]
  },
  {
   "cell_type": "markdown",
   "id": "0a15639e",
   "metadata": {},
   "source": [
    "<a id=\"e\"></a>\n",
    "### On OAC and antiplatelet without gastroprotection (GI_P3E)"
   ]
  },
  {
   "cell_type": "code",
   "execution_count": 6,
   "id": "d8c20650",
   "metadata": {},
   "outputs": [
    {
     "data": {
      "text/html": [
       "<img src=\"../output/plot_e.jpeg\"/>"
      ],
      "text/plain": [
       "<IPython.core.display.Image object>"
      ]
     },
     "execution_count": 6,
     "metadata": {},
     "output_type": "execute_result"
    }
   ],
   "source": [
    "Image(url= \"../output/plot_e.jpeg\")"
   ]
  },
  {
   "cell_type": "markdown",
   "id": "6a4b9598",
   "metadata": {},
   "source": [
    "<a id=\"f\"></a>\n",
    "### On aspirin and antiplatelet without gastroprotection (GI_P3F)"
   ]
  },
  {
   "cell_type": "code",
   "execution_count": 7,
   "id": "336362fa",
   "metadata": {},
   "outputs": [
    {
     "data": {
      "text/html": [
       "<img src=\"../output/plot_f.jpeg\"/>"
      ],
      "text/plain": [
       "<IPython.core.display.Image object>"
      ]
     },
     "execution_count": 7,
     "metadata": {},
     "output_type": "execute_result"
    }
   ],
   "source": [
    "Image(url= \"../output/plot_f.jpeg\")"
   ]
  },
  {
   "cell_type": "markdown",
   "id": "4c1072ae",
   "metadata": {},
   "source": [
    "<a id=\"monitoring\"></a>\n",
    "## Monitoring Indicators"
   ]
  },
  {
   "cell_type": "markdown",
   "id": "14159f35",
   "metadata": {},
   "source": [
    "<a id=\"ac\"></a>\n",
    "### Age 75+, on ACEI or loop, no renal function/electrolytes test (MO_P13)"
   ]
  },
  {
   "cell_type": "code",
   "execution_count": 8,
   "id": "926cd88e",
   "metadata": {},
   "outputs": [
    {
     "data": {
      "text/html": [
       "<img src=\"../output/plot_ac.jpeg\"/>"
      ],
      "text/plain": [
       "<IPython.core.display.Image object>"
      ]
     },
     "execution_count": 8,
     "metadata": {},
     "output_type": "execute_result"
    }
   ],
   "source": [
    "Image(url= \"../output/plot_ac.jpeg\")"
   ]
  },
  {
   "cell_type": "markdown",
   "id": "bc95c470",
   "metadata": {},
   "source": [
    "<a id=\"me\"></a>\n",
    "### Methotrexate audit (MO_P15)"
   ]
  },
  {
   "cell_type": "markdown",
   "id": "a4906c08",
   "metadata": {},
   "source": [
    "<a id=\"me_no_fbc\"></a>\n",
    "#### On methotrexate without recorded full blood count"
   ]
  },
  {
   "cell_type": "code",
   "execution_count": 9,
   "id": "30d24a35",
   "metadata": {},
   "outputs": [
    {
     "data": {
      "text/html": [
       "<img src=\"../output/plot_me_no_fbc.jpeg\"/>"
      ],
      "text/plain": [
       "<IPython.core.display.Image object>"
      ]
     },
     "execution_count": 9,
     "metadata": {},
     "output_type": "execute_result"
    }
   ],
   "source": [
    "Image(url= \"../output/plot_me_no_fbc.jpeg\")"
   ]
  },
  {
   "cell_type": "markdown",
   "id": "a155338e",
   "metadata": {},
   "source": [
    "<a id=\"me_no_lft\"></a>\n",
    "#### On methotrexate without recorded liver function test"
   ]
  },
  {
   "cell_type": "code",
   "execution_count": 10,
   "id": "d5bd8d74",
   "metadata": {},
   "outputs": [
    {
     "data": {
      "text/html": [
       "<img src=\"../output/plot_me_no_lft.jpeg\"/>"
      ],
      "text/plain": [
       "<IPython.core.display.Image object>"
      ]
     },
     "execution_count": 10,
     "metadata": {},
     "output_type": "execute_result"
    }
   ],
   "source": [
    "Image(url= \"../output/plot_me_no_lft.jpeg\")"
   ]
  },
  {
   "cell_type": "markdown",
   "id": "9bd0d542",
   "metadata": {},
   "source": [
    "<a id=\"li\"></a>\n",
    "### On lithium without recent lithium test (MO_P17)"
   ]
  },
  {
   "cell_type": "code",
   "execution_count": 11,
   "id": "7be727b0",
   "metadata": {},
   "outputs": [
    {
     "data": {
      "text/html": [
       "<img src=\"../output/plot_li.jpeg\"/>"
      ],
      "text/plain": [
       "<IPython.core.display.Image object>"
      ]
     },
     "execution_count": 11,
     "metadata": {},
     "output_type": "execute_result"
    }
   ],
   "source": [
    "Image(url= \"../output/plot_li.jpeg\")"
   ]
  },
  {
   "cell_type": "markdown",
   "id": "bec0429b",
   "metadata": {},
   "source": [
    "<a id=\"am\"></a>\n",
    "### On amiodarone without recent thyroid function test (MO_P18)"
   ]
  },
  {
   "cell_type": "code",
   "execution_count": 12,
   "id": "6a4dfb0d",
   "metadata": {},
   "outputs": [
    {
     "data": {
      "text/html": [
       "<img src=\"../output/plot_am.jpeg\"/>"
      ],
      "text/plain": [
       "<IPython.core.display.Image object>"
      ]
     },
     "execution_count": 12,
     "metadata": {},
     "output_type": "execute_result"
    }
   ],
   "source": [
    "Image(url= \"../output/plot_am.jpeg\")"
   ]
  },
  {
   "cell_type": "markdown",
   "id": "1cdfbacf",
   "metadata": {},
   "source": [
    "<a id=\"other\"></a>\n",
    "## Other Indicators\n"
   ]
  },
  {
   "cell_type": "markdown",
   "id": "28fbcb84",
   "metadata": {},
   "source": [
    "<a id=\"g\"></a>\n",
    "### Asthma and non-selective BB (AS_P3G)"
   ]
  },
  {
   "cell_type": "code",
   "execution_count": 13,
   "id": "152e0fef",
   "metadata": {},
   "outputs": [
    {
     "data": {
      "text/html": [
       "<img src=\"../output/plot_g.jpeg\"/>"
      ],
      "text/plain": [
       "<IPython.core.display.Image object>"
      ]
     },
     "execution_count": 13,
     "metadata": {},
     "output_type": "execute_result"
    }
   ],
   "source": [
    "Image(url= \"../output/plot_g.jpeg\")"
   ]
  },
  {
   "cell_type": "markdown",
   "id": "99856bfd",
   "metadata": {},
   "source": [
    "<a id=\"i\"></a>\n",
    "### Heart failure and oral NSAID (HF_P3I)"
   ]
  },
  {
   "cell_type": "code",
   "execution_count": 14,
   "id": "0ae93ad6",
   "metadata": {},
   "outputs": [
    {
     "data": {
      "text/html": [
       "<img src=\"../output/plot_i.jpeg\"/>"
      ],
      "text/plain": [
       "<IPython.core.display.Image object>"
      ]
     },
     "execution_count": 14,
     "metadata": {},
     "output_type": "execute_result"
    }
   ],
   "source": [
    "Image(url= \"../output/plot_i.jpeg\")"
   ]
  },
  {
   "cell_type": "markdown",
   "id": "b749235f",
   "metadata": {},
   "source": [
    "<a id=\"k\"></a>\n",
    "### eGFR <45 and oral NSAID (KI_P3K)"
   ]
  },
  {
   "cell_type": "code",
   "execution_count": 15,
   "id": "0f7fdcae",
   "metadata": {},
   "outputs": [
    {
     "data": {
      "text/html": [
       "<img src=\"../output/plot_k.jpeg\"/>"
      ],
      "text/plain": [
       "<IPython.core.display.Image object>"
      ]
     },
     "execution_count": 15,
     "metadata": {},
     "output_type": "execute_result"
    }
   ],
   "source": [
    "Image(url= \"../output/plot_k.jpeg\")"
   ]
  },
  {
   "cell_type": "markdown",
   "id": "779c63a6",
   "metadata": {},
   "source": [
    "<a id=\"composites\"></a>\n",
    "## Composite Indicators"
   ]
  },
  {
   "cell_type": "code",
   "execution_count": 16,
   "id": "86e62e60",
   "metadata": {},
   "outputs": [
    {
     "data": {
      "text/html": [
       "<img src=\"../output/plot_k.jpeg\"/>"
      ],
      "text/plain": [
       "<IPython.core.display.Image object>"
      ]
     },
     "execution_count": 16,
     "metadata": {},
     "output_type": "execute_result"
    }
   ],
   "source": [
    "Image(url= \"../output/plot_k.jpeg\")"
   ]
  },
  {
   "cell_type": "markdown",
   "id": "2dbfc550",
   "metadata": {},
   "source": [
    "<a id=\"composite_gi_bleed\"></a>\n",
    "### GI Bleed Composite Indicator"
   ]
  },
  {
   "cell_type": "code",
   "execution_count": 17,
   "id": "1df62c98",
   "metadata": {},
   "outputs": [
    {
     "data": {
      "text/html": [
       "<img src=\"../output/plot_gi_bleed_composite.jpeg\"/>"
      ],
      "text/plain": [
       "<IPython.core.display.Image object>"
      ]
     },
     "execution_count": 17,
     "metadata": {},
     "output_type": "execute_result"
    }
   ],
   "source": [
    "Image(url= \"../output/plot_gi_bleed_composite.jpeg\")"
   ]
  },
  {
   "cell_type": "markdown",
   "id": "089676b7",
   "metadata": {},
   "source": [
    "<a id=\"composite_monitoring\"></a>\n",
    "### Monitoring Composite Indicator]"
   ]
  },
  {
   "cell_type": "code",
   "execution_count": 18,
   "id": "d44ff12f",
   "metadata": {},
   "outputs": [
    {
     "data": {
      "text/html": [
       "<img src=\"../output/plot_monitoring_composite.jpeg\"/>"
      ],
      "text/plain": [
       "<IPython.core.display.Image object>"
      ]
     },
     "execution_count": 18,
     "metadata": {},
     "output_type": "execute_result"
    }
   ],
   "source": [
    "Image(url= \"../output/plot_monitoring_composite.jpeg\")"
   ]
  },
  {
   "cell_type": "markdown",
   "id": "b66a88b8",
   "metadata": {},
   "source": [
    "<a id=\"composite_other\"></a>\n",
    "### Other Composite Indicator"
   ]
  },
  {
   "cell_type": "code",
   "execution_count": 19,
   "id": "2c4bcd6e",
   "metadata": {},
   "outputs": [
    {
     "data": {
      "text/html": [
       "<img src=\"../output/plot_other_prescribing_composite.jpeg\"/>"
      ],
      "text/plain": [
       "<IPython.core.display.Image object>"
      ]
     },
     "execution_count": 19,
     "metadata": {},
     "output_type": "execute_result"
    }
   ],
   "source": [
    "Image(url= \"../output/plot_other_prescribing_composite.jpeg\")"
   ]
  },
  {
   "cell_type": "markdown",
   "id": "351d1779",
   "metadata": {},
   "source": [
    "<a id=\"composite_all\"></a>\n",
    "### Combined Composite Indicator"
   ]
  },
  {
   "cell_type": "code",
   "execution_count": 20,
   "id": "f6eca1e7",
   "metadata": {},
   "outputs": [
    {
     "data": {
      "text/html": [
       "<img src=\"../output/plot_all_composite.jpeg\"/>"
      ],
      "text/plain": [
       "<IPython.core.display.Image object>"
      ]
     },
     "execution_count": 20,
     "metadata": {},
     "output_type": "execute_result"
    }
   ],
   "source": [
    "Image(url= \"../output/plot_all_composite.jpeg\")"
   ]
  }
 ],
 "metadata": {
  "kernelspec": {
   "display_name": "Python 3",
   "language": "python",
   "name": "python3"
  },
  "language_info": {
   "codemirror_mode": {
    "name": "ipython",
    "version": 3
   },
   "file_extension": ".py",
   "mimetype": "text/x-python",
   "name": "python",
   "nbconvert_exporter": "python",
   "pygments_lexer": "ipython3",
   "version": "3.9.5"
  }
 },
 "nbformat": 4,
 "nbformat_minor": 5
}
