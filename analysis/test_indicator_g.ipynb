{
 "cells": [
  {
   "cell_type": "code",
   "execution_count": 2,
   "id": "7b04ef1e",
   "metadata": {},
   "outputs": [],
   "source": [
    "import pandas as pd\n",
    "from pathlib import Path\n",
    "from utilities import match_input_files, get_date_input_file, OUTPUT_DIR\n",
    "\n",
    "\n",
    "matching_dict = {}\n",
    "\n",
    "for file in OUTPUT_DIR.iterdir():\n",
    "    if match_input_files(file.name):\n",
    "        df = pd.read_csv(OUTPUT_DIR / file.name)\n",
    "        date = get_date_input_file(file.name)\n",
    "\n",
    "        if df['indicator_g_denominator'].equals(df['indicator_g_denominator_alternative']):\n",
    "            matching_dict[date] = 1\n",
    "        else:\n",
    "            matching_dict[date] = 0\n",
    "\n",
    "\n",
    "pd.DataFrame.from_dict(matching_dict, orient ='index', columns=['matching']).to_csv(OUTPUT_DIR / 'indicator_g_matching.csv')"
   ]
  },
  {
   "cell_type": "code",
   "execution_count": null,
   "id": "36d899f6",
   "metadata": {},
   "outputs": [],
   "source": []
  }
 ],
 "metadata": {
  "kernelspec": {
   "display_name": "Python 3 (ipykernel)",
   "language": "python",
   "name": "python3"
  },
  "language_info": {
   "codemirror_mode": {
    "name": "ipython",
    "version": 3
   },
   "file_extension": ".py",
   "mimetype": "text/x-python",
   "name": "python",
   "nbconvert_exporter": "python",
   "pygments_lexer": "ipython3",
   "version": "3.9.6"
  }
 },
 "nbformat": 4,
 "nbformat_minor": 5
}
