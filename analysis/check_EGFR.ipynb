{
 "cells": [
  {
   "cell_type": "code",
   "execution_count": 1,
   "id": "7ef872f5",
   "metadata": {},
   "outputs": [
    {
     "data": {
      "text/plain": [
       "<Figure size 576x576 with 0 Axes>"
      ]
     },
     "metadata": {},
     "output_type": "display_data"
    },
    {
     "data": {
      "text/plain": [
       "<Figure size 576x576 with 0 Axes>"
      ]
     },
     "metadata": {},
     "output_type": "display_data"
    },
    {
     "data": {
      "text/plain": [
       "<Figure size 432x288 with 0 Axes>"
      ]
     },
     "metadata": {},
     "output_type": "display_data"
    },
    {
     "data": {
      "text/plain": [
       "<Figure size 1152x576 with 0 Axes>"
      ]
     },
     "metadata": {},
     "output_type": "display_data"
    },
    {
     "data": {
      "text/plain": [
       "<Figure size 432x288 with 0 Axes>"
      ]
     },
     "metadata": {},
     "output_type": "display_data"
    }
   ],
   "source": [
    "import pandas as pd\n",
    "import re\n",
    "import seaborn as sns\n",
    "\n",
    "from utilities import OUTPUT_DIR, match_input_files\n",
    "import numpy as np\n",
    "import matplotlib.pyplot as plt\n",
    "\n",
    "all_egfr_data = []\n",
    "\n",
    "#print(f\"Output directory is: {OUTPUT_DIR}\")\n",
    "\n",
    "# Collecting data for EGFR plots\n",
    "for file in OUTPUT_DIR.iterdir():\n",
    "    if match_input_files(file.name):\n",
    "        df = pd.read_csv(OUTPUT_DIR / file.name)\n",
    "        df['source'] = file.stem\n",
    "        #print(f\"Reading EGFR data from {file.stem} ({len(df)})\")\n",
    "        all_egfr_data.append(df[['egfr', 'egfr_less_than_45', 'source']])\n",
    "\n",
    "\n",
    "df = pd.concat(all_egfr_data)\n",
    "#print(f\"Final data frame size: {df.shape}\")\n",
    "\n",
    "# Plot all EGFR data in one boxplot\n",
    "plt.figure(figsize=(8,8))\n",
    "df.boxplot(column='egfr')\n",
    "plt.title(\"EGFR values (all months)\", weight='bold')\n",
    "plt.ylabel('EGFR value', weight='bold')\n",
    "plt.tight_layout()\n",
    "plt.savefig(f\"{OUTPUT_DIR}/BOXPLOT_EGFRvalue.png\", format=\"png\")\n",
    "plt.clf()\n",
    "\n",
    "# Plot EGFR data separated by the less than 45 flag\n",
    "plt.figure(figsize=(8, 8))\n",
    "df.boxplot(column='egfr', by=['egfr_less_than_45'])\n",
    "plt.title(\"EGFR values (separated by 'less_than_45' flag)\", weight='bold')\n",
    "plt.suptitle('')\n",
    "plt.xlabel('')\n",
    "plt.ylabel('EGFR value', weight='bold')\n",
    "plt.tight_layout()\n",
    "plt.savefig(f\"{OUTPUT_DIR}/BOXPLOT_EGFRvalue-by-EGFR45flag.png\", format=\"png\")\n",
    "plt.clf()\n",
    "\n",
    "# Plot EGFR data separated using groupby() to group by input\n",
    "# file source (i.e., month)\n",
    "plt.figure(figsize=(16, 8))\n",
    "df['date_labels'] = df['source']\n",
    "df['date_labels'].replace(to_replace=\"input_(.*)\",\n",
    "                          value=r\"\\1\", regex=True, inplace=True)\n",
    "df.boxplot(column='egfr', by='date_labels')\n",
    "plt.xticks(rotation='vertical')\n",
    "plt.xlabel('Month', weight='bold')\n",
    "plt.ylabel('EGFR value', weight='bold')\n",
    "plt.title(\"EGFR values (separated by month)\", weight='bold')\n",
    "plt.suptitle('')\n",
    "plt.tight_layout()\n",
    "plt.savefig(f\"{OUTPUT_DIR}/BOXPLOT_EGFRvalue-by-month.png\", format=\"png\")\n",
    "plt.clf()\n",
    "\n",
    "# Generating crosstabulations: source by less_than_45 flag\n",
    "# https://towardsdatascience.com/meet-the-hardest-functions-of-pandas-part-ii-f8029a2b0c9b\n",
    "EGFR_less_than_45_crosstabs = pd.crosstab(index=df['source'], columns=df['egfr_less_than_45'])\n",
    "EGFR_less_than_45_crosstabs.to_csv( f\"{OUTPUT_DIR}/CROSSTAB_source-by-EGFR45flag.csv\")\n",
    "\n",
    "# Generating crosstabulations: source by missing flag\n",
    "df['missing_egfr'] = pd.isnull(df['egfr'])\n",
    "EGFR_missing_crosstabs = pd.crosstab(index=df['source'], columns=df['missing_egfr'])\n",
    "EGFR_missing_crosstabs.to_csv(f\"{OUTPUT_DIR}/CROSSTAB_source-by-missingEGFR.csv\")\n"
   ]
  },
  {
   "cell_type": "code",
   "execution_count": null,
   "id": "4db70b05",
   "metadata": {},
   "outputs": [],
   "source": []
  }
 ],
 "metadata": {
  "kernelspec": {
   "display_name": "Python 3 (ipykernel)",
   "language": "python",
   "name": "python3"
  },
  "language_info": {
   "codemirror_mode": {
    "name": "ipython",
    "version": 3
   },
   "file_extension": ".py",
   "mimetype": "text/x-python",
   "name": "python",
   "nbconvert_exporter": "python",
   "pygments_lexer": "ipython3",
   "version": "3.9.6"
  }
 },
 "nbformat": 4,
 "nbformat_minor": 5
}
