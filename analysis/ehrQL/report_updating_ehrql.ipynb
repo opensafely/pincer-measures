{
 "cells": [
  {
   "attachments": {},
   "cell_type": "markdown",
   "metadata": {},
   "source": [
    "This report accompanies [this report](https://reports.opensafely.org/reports/changes-in-pincer-measures-throughout-the-covid-19-pandemic/) describing practice level changes in adherence to PINCER indicators of prescription and medication monitoring throughout the COVID-19 pandemic. This version includes data from the EHR provider TPP only and will be updated regularly. For a more detailed analysis please see the report linked above or the accompanying paper, also linked above.\n",
    "\n",
    "## Background\n",
    "\n",
    "Pharmacist-led information technology intervention (PINCER) is an effective way to reduce errors in prescription and medication monitoring which are responsible for a large proportion of adverse drug events. This is achieved through the monitoring of 13 PINCER indicators.\n",
    "\n",
    "The purpose of this notebook is to describe practice level changes in adherence to each of the PINCER indicators throughout the COVID-19 pandemic. For each indicator, practice level monthly rates of hazardous prescribing are calculated, ranked and used to calculate deciles of activity, which are represented as decile charts.\n",
    "\n",
    "The 13 PINCER measures include:\n",
    "* [Gastrointestinal (GI) Bleed Indicators](#gi_bleed)\n",
    "    * [Age 65+, on oral NSAID without gastroprotection (GI_P3A)](#a)\n",
    "    * [H/O peptic ulcer, on oral NSAID without gastroprotection (GI_P3B)](#b)\n",
    "    * [H/O peptic ulcer, on OAC without gastroprotection (GI_P3C)](#c)\n",
    "    * [On OAC and oral NSAID (GI_P3D)](#d)\n",
    "    * [On OAC and antiplatelet without gastroprotection (GI_P3E)](#e)\n",
    "    * [On aspirin and antiplatelet without gastroprotection (GI_P3F)](#f)\n",
    "* [Monitoring Indicators](#monitoring)\n",
    "    * [Age 75+, on ACEI or loop, no renal function/electrolytes test (MO_P13)](#ac)\n",
    "    * [Methotrexate audit (MO_P15)](#me)\n",
    "        * [On methotrexate without recorded full blood count (FBC)](#me_no_fbc)\n",
    "        * [On methotrexate without recorded liver functon test (LFT)](#me_no_lft)\n",
    "    * [On lithium without recent lithium test (MO_P17)](#li)\n",
    "    * [On amiodarone without recent thyroid function test (TFT) (MO_P18)](#am)\n",
    "* [Other Indicators](#other)\n",
    "    * [Asthma and non-selective BB (AS_P3G)](#g)\n",
    "    * [Heart failure and oral NSAID (HF_P3I)](#i)\n",
    "    * [Chronic renal impairment & NSAID (KI_P3K)](#k)"
   ]
  },
  {
   "cell_type": "code",
   "execution_count": null,
   "metadata": {
    "vscode": {
     "languageId": "plaintext"
    }
   },
   "outputs": [],
   "source": [
    "import pandas as pd\n",
    "import json\n",
    "from IPython.display import display, Markdown, Image\n",
    "import os\n",
    "import numpy as np\n",
    "\n",
    "\n",
    "def show_image(path):\n",
    "    img = Image(path)\n",
    "    display(img)"
   ]
  },
  {
   "attachments": {},
   "cell_type": "markdown",
   "metadata": {},
   "source": [
    "<a id=\"gi_bleed\"></a>\n",
    "## Gastrointestinal (GI) Bleed Indicators\n",
    "\n",
    "<a id=\"a\"></a>\n",
    "### Age 65+, on oral NSAID without gastroprotection (GI_P3A)\n",
    "\n",
    "Prescription of an oral NSAID in the previous 3 months to patients aged 65 or above who have been co-prescribed an ulcer healing drug in the previous 3 months.  "
   ]
  },
  {
   "cell_type": "code",
   "execution_count": null,
   "metadata": {
    "vscode": {
     "languageId": "plaintext"
    }
   },
   "outputs": [],
   "source": [
    "show_image(\"../../output/figures_ehrql/plot_a.jpeg\")"
   ]
  },
  {
   "attachments": {},
   "cell_type": "markdown",
   "metadata": {},
   "source": [
    "<a id=\"b\"></a>\n",
    "### H/O peptic ulcer, on oral NSAID without gastroprotection (GI_P3B)\n",
    "\n",
    "Prescription of an oral NSAID in the previous 3 months to patients with a history of peptic ulceration/gastric bleed."
   ]
  },
  {
   "cell_type": "code",
   "execution_count": null,
   "metadata": {
    "vscode": {
     "languageId": "plaintext"
    }
   },
   "outputs": [],
   "source": [
    "show_image(\"../../output/figures_ehrql/plot_b.jpeg\")"
   ]
  },
  {
   "attachments": {},
   "cell_type": "markdown",
   "metadata": {},
   "source": [
    "<a id=\"c\"></a>\n",
    "### H/O peptic ulcer, on OAC without gastroprotection (GI_P3C)\n",
    "\n",
    "Prescription of an aniplatelet drug in the previous 3 months in patients with a history of peptic ulceration/gatric bleed."
   ]
  },
  {
   "cell_type": "code",
   "execution_count": null,
   "metadata": {
    "vscode": {
     "languageId": "plaintext"
    }
   },
   "outputs": [],
   "source": [
    "show_image(\"../../output/figures_ehrql/plot_c.jpeg\")"
   ]
  },
  {
   "attachments": {},
   "cell_type": "markdown",
   "metadata": {},
   "source": [
    "<a id=\"d\"></a>\n",
    "### On OAC and oral NSAID (GI_P3D)\n",
    "\n",
    "Prescription of warfarin or a DOAC in the previous 3 months and a preascription of an oral NSAID in the previous 3 months."
   ]
  },
  {
   "cell_type": "code",
   "execution_count": null,
   "metadata": {
    "vscode": {
     "languageId": "plaintext"
    }
   },
   "outputs": [],
   "source": [
    "show_image(\"../../output/figures_ehrql/plot_d.jpeg\")"
   ]
  },
  {
   "attachments": {},
   "cell_type": "markdown",
   "metadata": {},
   "source": [
    "<a id=\"e\"></a>\n",
    "### On OAC and antiplatelet without gastroprotection (GI_P3E)\n",
    "\n",
    "Prescription of warfarin or a DOAC in combination with an antiplatelet drug in the previous 3 months without co-prescription of an ulcer-healing drug.\n",
    "\n",
    "Note: \"In combination\" is defined as a co-prescription within 28 days of each other."
   ]
  },
  {
   "cell_type": "code",
   "execution_count": null,
   "metadata": {
    "vscode": {
     "languageId": "plaintext"
    }
   },
   "outputs": [],
   "source": [
    "show_image(\"../../output/figures_ehrql/plot_e.jpeg\")"
   ]
  },
  {
   "attachments": {},
   "cell_type": "markdown",
   "metadata": {},
   "source": [
    "<a id=\"f\"></a>\n",
    "### On aspirin and antiplatelet without gastroprotection (GI_P3F)\n",
    "\n",
    "Prescription of aspirin in combination with another antiplatelet drug in the previous 3 months without co-prescription of an ulcer-healing drug.\n",
    "\n",
    "Note: \"In combination\" is defined as a co-prescription within 28 days of each other."
   ]
  },
  {
   "cell_type": "code",
   "execution_count": null,
   "metadata": {
    "vscode": {
     "languageId": "plaintext"
    }
   },
   "outputs": [],
   "source": [
    "show_image(\"../../output/figures_ehrql/plot_f.jpeg\")"
   ]
  },
  {
   "attachments": {},
   "cell_type": "markdown",
   "metadata": {},
   "source": [
    "<a id=\"monitoring\"></a>\n",
    "## Monitoring Indicators\n",
    "\n",
    "<a id=\"ac\"></a>\n",
    "### Age 75+, on ACEI or loop, no renal function/electrolytes test (MO_P13)\n",
    "\n",
    "Absence of a computer-recorded check of renal function or electrolytes in the previous 15 months in patients aged 75 or over who have been prescripted an ACEi of loop diuretic in the previous 6 months."
   ]
  },
  {
   "cell_type": "code",
   "execution_count": null,
   "metadata": {
    "vscode": {
     "languageId": "plaintext"
    }
   },
   "outputs": [],
   "source": [
    "show_image(\"../../output/figures_ehrql/plot_ac.jpeg\")"
   ]
  },
  {
   "attachments": {},
   "cell_type": "markdown",
   "metadata": {},
   "source": [
    "<a id=\"me\"></a>\n",
    "### Methotrexate audit (MO_P15)\n",
    "\n",
    "<a id=\"me_no_fbc\"></a>\n",
    "#### On methotrexate without recorded full blood count\n",
    "\n",
    "Absence of a recorded full blood count in the previous 3 months in patients who have been receiving a methotrexate prescription for at least 3 months."
   ]
  },
  {
   "cell_type": "code",
   "execution_count": null,
   "metadata": {
    "vscode": {
     "languageId": "plaintext"
    }
   },
   "outputs": [],
   "source": [
    "show_image(\"../../output/figures_ehrql/plot_me_no_fbc.jpeg\")"
   ]
  },
  {
   "attachments": {},
   "cell_type": "markdown",
   "metadata": {},
   "source": [
    "<a id=\"me_no_lft\"></a>\n",
    "#### On methotrexate without recorded liver function test\n",
    "\n",
    "Absence of a recorded liver function test in the previous 3 months in patients who have been receiving a methotrexate prescription for at least 3 months."
   ]
  },
  {
   "cell_type": "code",
   "execution_count": null,
   "metadata": {
    "vscode": {
     "languageId": "plaintext"
    }
   },
   "outputs": [],
   "source": [
    "show_image(\"../../output/figures_ehrql/plot_me_no_lft.jpeg\")"
   ]
  },
  {
   "attachments": {},
   "cell_type": "markdown",
   "metadata": {},
   "source": [
    "<a id=\"li\"></a>\n",
    "### On lithium without recent lithium test (MO_P17)\n",
    "\n",
    "Absence of a recorded check of lithium concentration in the previous 3 months in patients who have been receiving a lithium prescription for at least 3 months."
   ]
  },
  {
   "cell_type": "code",
   "execution_count": null,
   "metadata": {
    "vscode": {
     "languageId": "plaintext"
    }
   },
   "outputs": [],
   "source": [
    "show_image(\"../../output/figures_ehrql/plot_li.jpeg\")"
   ]
  },
  {
   "attachments": {},
   "cell_type": "markdown",
   "metadata": {},
   "source": [
    "<a id=\"am\"></a>\n",
    "### On amiodarone without recent thyroid function test (MO_P18)\n",
    "\n",
    "Absence of a recorded thyroid function test in the previous 6 months in patients who have been receiving a lithium prescription for at least 6 months."
   ]
  },
  {
   "cell_type": "code",
   "execution_count": null,
   "metadata": {
    "vscode": {
     "languageId": "plaintext"
    }
   },
   "outputs": [],
   "source": [
    "show_image(\"../../output/figures_ehrql/plot_am.jpeg\")"
   ]
  },
  {
   "attachments": {},
   "cell_type": "markdown",
   "metadata": {},
   "source": [
    "<a id=\"other\"></a>\n",
    "## Other Indicators\n",
    "\n",
    "<a id=\"g\"></a>\n",
    "### Asthma and non-selective BB (AS_P3G)\n",
    "\n",
    "Prescription of a non-selective beta-blocker in the previous 3 months in patients with a history of asthma.\n",
    "\n",
    "Note: History of asthma is defined as patients with a recorded code for asthma without a more recent asthma resolved code."
   ]
  },
  {
   "cell_type": "code",
   "execution_count": null,
   "metadata": {
    "vscode": {
     "languageId": "plaintext"
    }
   },
   "outputs": [],
   "source": [
    "show_image(\"../../output/figures_ehrql/plot_g.jpeg\")"
   ]
  },
  {
   "attachments": {},
   "cell_type": "markdown",
   "metadata": {},
   "source": [
    "<a id=\"i\"></a>\n",
    "### Heart failure and oral NSAID (HF_P3I)\n",
    "\n",
    "Prescription of an oral NSAID in the previous 3 months in patients with heart failure."
   ]
  },
  {
   "cell_type": "code",
   "execution_count": null,
   "metadata": {
    "vscode": {
     "languageId": "plaintext"
    }
   },
   "outputs": [],
   "source": [
    "show_image(\"../../output/figures_ehrql/plot_i.jpeg\")"
   ]
  },
  {
   "attachments": {},
   "cell_type": "markdown",
   "metadata": {},
   "source": [
    "<a id=\"k\"></a>\n",
    "### eGFR <45 and oral NSAID (KI_P3K)\n",
    "\n",
    "Prescription of an oral NSAID in the previous 3 months to patients with an eGFR < 45."
   ]
  },
  {
   "cell_type": "code",
   "execution_count": null,
   "metadata": {
    "vscode": {
     "languageId": "plaintext"
    }
   },
   "outputs": [],
   "source": [
    "show_image(\"../../output/figures_ehrql/plot_k.jpeg\")"
   ]
  }
 ],
 "metadata": {
  "language_info": {
   "name": "python"
  },
  "orig_nbformat": 4
 },
 "nbformat": 4,
 "nbformat_minor": 2
}
