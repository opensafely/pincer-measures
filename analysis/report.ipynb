{
 "cells": [
  {
   "cell_type": "markdown",
   "source": [
    "<h1 align=\"center\">Changes in PINCER measures during the pandemic</h1>\n",
    "\n",
    "Pharmacist-led information technology intervention (PINCER) is an effective way to reduce errors in prescription and medication monitoring which are responsible for a large proportion of adverse drug events. This is achieved through the monitoring of 12 PINCER measures.\n",
    "\n",
    "The purpose of this notebook is observe changes in adherence to each of the PINCER measures at the practice level during the pandemic.  For each of these measures we provide a link to the codelist containing all the codes used for that measure, a description of what the measure is and a brief overview of why the measure is important. A summary of the number of events for each measure is produced and monthly rates of recorded activity for each measure is plotted as a decile chart.\n",
    "\n",
    "The 12 PINCER measures include:\n",
    "* ### [Gastrointestinal (GI) Bleed Indicators](#gi_bleed)\n",
    "    * [Age 65+, on oral NSAID without gastroprotection (GI_P3A)](#a)\n",
    "    * [H/O peptic ulcer, on oral NSAID without gastroprotection (GI_P3B)](#b)\n",
    "    * [H/O peptic ulcer, on OAC without gastroprotection (GI_P3C)](#c)\n",
    "    * [On OAC and oral NSAID (GI_P3D)](#d)\n",
    "    * [On OAC and antiplatelet without gastroprotection (GI_P3E)](#e)\n",
    "    * [On aspirin and antiplatelet without gastroprotection (GI_P3F)](#f)\n",
    "* ### [Monitoring Indicators](#monitoring)\n",
    "    * [Age 75+, on ACEI or loop, no renal function/electrolytes test (MO_P13)](#ac)\n",
    "    * [Methotrexate audit (MO_P15)](#me)\n",
    "        * [On methotrexate without recorded full blood count (FBC)](#me_no_fbc)\n",
    "        * [On methotrexate without recorded liver functon test (LFT)](#me_no_lft)\n",
    "    * [On lithium without recent lithium test (MO_P17)](#li)\n",
    "    * [On amiodarone without recent thyroid function test (TFT) (MO_P18)](#am)\n",
    "* ### [Other Indicators](#other)\n",
    "    * [Asthma and non-selective BB (AS_P3G)](#g)\n",
    "    * [Heart failure and oral NSAID (HF_P3I)](#i)\n",
    "    * [eGFR <45 and oral NSAID (KI_P3K)](#k)\n",
    "    \n",
    "There are also a set of [composite indicators](#composites) which indicate the number of people with 1 or more of each of the broad measure categories:\n",
    "* ### [GI Bleed Composite Indicator](#composite_gi_bleed)\n",
    "* ### [Monitoring Composite Indicator](#composite_monitoring)\n",
    "* ### [Other Composite Indicator](#composite_other)\n",
    "* ### [Combined Composite Indicator](#composite_all)"
   ],
   "metadata": {}
  },
  {
   "cell_type": "code",
   "execution_count": 1,
   "source": [
    "import pandas as pd\n",
    "from IPython.display import Image"
   ],
   "outputs": [
    {
     "output_type": "error",
     "ename": "ModuleNotFoundError",
     "evalue": "No module named 'cohortextractor'",
     "traceback": [
      "\u001b[0;31m---------------------------------------------------------------------------\u001b[0m",
      "\u001b[0;31mModuleNotFoundError\u001b[0m                       Traceback (most recent call last)",
      "\u001b[0;32m<ipython-input-1-6d3178d4d479>\u001b[0m in \u001b[0;36m<module>\u001b[0;34m\u001b[0m\n\u001b[1;32m      1\u001b[0m \u001b[0;32mimport\u001b[0m \u001b[0mpandas\u001b[0m \u001b[0;32mas\u001b[0m \u001b[0mpd\u001b[0m\u001b[0;34m\u001b[0m\u001b[0;34m\u001b[0m\u001b[0m\n\u001b[1;32m      2\u001b[0m \u001b[0;32mfrom\u001b[0m \u001b[0mIPython\u001b[0m\u001b[0;34m.\u001b[0m\u001b[0mdisplay\u001b[0m \u001b[0;32mimport\u001b[0m \u001b[0mImage\u001b[0m\u001b[0;34m\u001b[0m\u001b[0;34m\u001b[0m\u001b[0m\n\u001b[0;32m----> 3\u001b[0;31m \u001b[0;32mfrom\u001b[0m \u001b[0mcalculate_measures\u001b[0m \u001b[0;32mimport\u001b[0m \u001b[0mdemographics\u001b[0m\u001b[0;34m\u001b[0m\u001b[0;34m\u001b[0m\u001b[0m\n\u001b[0m\u001b[1;32m      4\u001b[0m \u001b[0;34m\u001b[0m\u001b[0m\n\u001b[1;32m      5\u001b[0m \u001b[0mindicators_list\u001b[0m \u001b[0;34m=\u001b[0m \u001b[0;34m[\u001b[0m\u001b[0;34m\"a\"\u001b[0m\u001b[0;34m,\u001b[0m \u001b[0;34m\"b\"\u001b[0m\u001b[0;34m,\u001b[0m \u001b[0;34m\"c\"\u001b[0m\u001b[0;34m,\u001b[0m \u001b[0;34m\"d\"\u001b[0m\u001b[0;34m,\u001b[0m \u001b[0;34m\"e\"\u001b[0m\u001b[0;34m,\u001b[0m \u001b[0;34m\"f\"\u001b[0m\u001b[0;34m,\u001b[0m \u001b[0;34m\"g\"\u001b[0m\u001b[0;34m,\u001b[0m \u001b[0;34m\"i\"\u001b[0m\u001b[0;34m,\u001b[0m \u001b[0;34m\"k\"\u001b[0m\u001b[0;34m,\u001b[0m \u001b[0;34m\"ac\"\u001b[0m\u001b[0;34m,\u001b[0m \u001b[0;34m\"me_no_fbc\"\u001b[0m\u001b[0;34m,\u001b[0m \u001b[0;34m\"me_no_lft\"\u001b[0m\u001b[0;34m,\u001b[0m \u001b[0;34m\"li\"\u001b[0m\u001b[0;34m,\u001b[0m \u001b[0;34m\"am\"\u001b[0m\u001b[0;34m]\u001b[0m\u001b[0;34m\u001b[0m\u001b[0;34m\u001b[0m\u001b[0m\n",
      "\u001b[0;32m~/Documents/DataLab/projects/pincer-measures/analysis/calculate_measures.py\u001b[0m in \u001b[0;36m<module>\u001b[0;34m\u001b[0m\n\u001b[1;32m      1\u001b[0m \u001b[0;32mimport\u001b[0m \u001b[0mpandas\u001b[0m \u001b[0;32mas\u001b[0m \u001b[0mpd\u001b[0m\u001b[0;34m\u001b[0m\u001b[0;34m\u001b[0m\u001b[0m\n\u001b[1;32m      2\u001b[0m \u001b[0;32mfrom\u001b[0m \u001b[0mutilities\u001b[0m \u001b[0;32mimport\u001b[0m \u001b[0mOUTPUT_DIR\u001b[0m\u001b[0;34m,\u001b[0m \u001b[0mmatch_input_files\u001b[0m\u001b[0;34m,\u001b[0m \u001b[0mget_date_input_file\u001b[0m\u001b[0;34m,\u001b[0m \u001b[0mcalculate_rate\u001b[0m\u001b[0;34m,\u001b[0m \u001b[0mredact_small_numbers\u001b[0m\u001b[0;34m\u001b[0m\u001b[0;34m\u001b[0m\u001b[0m\n\u001b[0;32m----> 3\u001b[0;31m \u001b[0;32mfrom\u001b[0m \u001b[0mstudy_definition\u001b[0m \u001b[0;32mimport\u001b[0m \u001b[0mindicators_list\u001b[0m\u001b[0;34m\u001b[0m\u001b[0;34m\u001b[0m\u001b[0m\n\u001b[0m\u001b[1;32m      4\u001b[0m \u001b[0;34m\u001b[0m\u001b[0m\n\u001b[1;32m      5\u001b[0m \u001b[0mdemographics\u001b[0m \u001b[0;34m=\u001b[0m \u001b[0;34m[\u001b[0m\u001b[0;34m\"age_band\"\u001b[0m\u001b[0;34m,\u001b[0m \u001b[0;34m\"sex\"\u001b[0m\u001b[0;34m,\u001b[0m \u001b[0;34m\"region\"\u001b[0m\u001b[0;34m,\u001b[0m \u001b[0;34m\"imd\"\u001b[0m\u001b[0;34m,\u001b[0m \u001b[0;34m\"care_home_type\"\u001b[0m\u001b[0;34m]\u001b[0m\u001b[0;34m\u001b[0m\u001b[0;34m\u001b[0m\u001b[0m\n",
      "\u001b[0;32m~/Documents/DataLab/projects/pincer-measures/analysis/study_definition.py\u001b[0m in \u001b[0;36m<module>\u001b[0;34m\u001b[0m\n\u001b[0;32m----> 1\u001b[0;31m from cohortextractor import (\n\u001b[0m\u001b[1;32m      2\u001b[0m     \u001b[0mStudyDefinition\u001b[0m\u001b[0;34m,\u001b[0m\u001b[0;34m\u001b[0m\u001b[0;34m\u001b[0m\u001b[0m\n\u001b[1;32m      3\u001b[0m     \u001b[0mpatients\u001b[0m\u001b[0;34m,\u001b[0m\u001b[0;34m\u001b[0m\u001b[0;34m\u001b[0m\u001b[0m\n\u001b[1;32m      4\u001b[0m     \u001b[0mMeasure\u001b[0m\u001b[0;34m\u001b[0m\u001b[0;34m\u001b[0m\u001b[0m\n\u001b[1;32m      5\u001b[0m )\n",
      "\u001b[0;31mModuleNotFoundError\u001b[0m: No module named 'cohortextractor'"
     ]
    }
   ],
   "metadata": {}
  },
  {
   "cell_type": "markdown",
   "source": [
    "<a id=\"gi_bleed\"></a>\n",
    "## Gastrointestinal (GI) Bleed Indicators\n"
   ],
   "metadata": {}
  },
  {
   "cell_type": "markdown",
   "source": [
    "<a id=\"a\"></a>\n",
    "### Age 65+, on oral NSAID without gastroprotection (GI_P3A)"
   ],
   "metadata": {}
  },
  {
   "cell_type": "code",
   "execution_count": 2,
   "source": [
    "Image(url= \"../output/figures/plot_a.jpeg\")"
   ],
   "outputs": [
    {
     "output_type": "execute_result",
     "data": {
      "text/plain": [
       "<IPython.core.display.Image object>"
      ],
      "text/html": [
       "<img src=\"../output/plot_a.jpeg\"/>"
      ]
     },
     "metadata": {},
     "execution_count": 2
    }
   ],
   "metadata": {}
  },
  {
   "cell_type": "markdown",
   "source": [
    "<a id=\"b\"></a>\n",
    "### H/O peptic ulcer, on oral NSAID without gastroprotection (GI_P3B)"
   ],
   "metadata": {}
  },
  {
   "cell_type": "code",
   "execution_count": 3,
   "source": [
    "Image(url= \"../output/figures/plot_b.jpeg\")"
   ],
   "outputs": [
    {
     "output_type": "execute_result",
     "data": {
      "text/plain": [
       "<IPython.core.display.Image object>"
      ],
      "text/html": [
       "<img src=\"../output/plot_b.jpeg\"/>"
      ]
     },
     "metadata": {},
     "execution_count": 3
    }
   ],
   "metadata": {}
  },
  {
   "cell_type": "markdown",
   "source": [
    "<a id=\"c\"></a>\n",
    "### H/O peptic ulcer, on OAC without gastroprotection (GI_P3C)"
   ],
   "metadata": {}
  },
  {
   "cell_type": "code",
   "execution_count": 4,
   "source": [
    "Image(url= \"../output/figures/plot_c.jpeg\")"
   ],
   "outputs": [
    {
     "output_type": "execute_result",
     "data": {
      "text/plain": [
       "<IPython.core.display.Image object>"
      ],
      "text/html": [
       "<img src=\"../output/plot_c.jpeg\"/>"
      ]
     },
     "metadata": {},
     "execution_count": 4
    }
   ],
   "metadata": {}
  },
  {
   "cell_type": "markdown",
   "source": [
    "<a id=\"d\"></a>\n",
    "### On OAC and oral NSAID (GI_P3D)"
   ],
   "metadata": {}
  },
  {
   "cell_type": "code",
   "execution_count": 5,
   "source": [
    "Image(url= \"../output/figures/plot_d.jpeg\")"
   ],
   "outputs": [
    {
     "output_type": "execute_result",
     "data": {
      "text/plain": [
       "<IPython.core.display.Image object>"
      ],
      "text/html": [
       "<img src=\"../output/plot_d.jpeg\"/>"
      ]
     },
     "metadata": {},
     "execution_count": 5
    }
   ],
   "metadata": {}
  },
  {
   "cell_type": "markdown",
   "source": [
    "<a id=\"e\"></a>\n",
    "### On OAC and antiplatelet without gastroprotection (GI_P3E)"
   ],
   "metadata": {}
  },
  {
   "cell_type": "code",
   "execution_count": 6,
   "source": [
    "Image(url= \"../output/figures/plot_e.jpeg\")"
   ],
   "outputs": [
    {
     "output_type": "execute_result",
     "data": {
      "text/plain": [
       "<IPython.core.display.Image object>"
      ],
      "text/html": [
       "<img src=\"../output/plot_e.jpeg\"/>"
      ]
     },
     "metadata": {},
     "execution_count": 6
    }
   ],
   "metadata": {}
  },
  {
   "cell_type": "markdown",
   "source": [
    "<a id=\"f\"></a>\n",
    "### On aspirin and antiplatelet without gastroprotection (GI_P3F)"
   ],
   "metadata": {}
  },
  {
   "cell_type": "code",
   "execution_count": 7,
   "source": [
    "Image(url= \"../output/figures/plot_f.jpeg\")"
   ],
   "outputs": [
    {
     "output_type": "execute_result",
     "data": {
      "text/plain": [
       "<IPython.core.display.Image object>"
      ],
      "text/html": [
       "<img src=\"../output/plot_f.jpeg\"/>"
      ]
     },
     "metadata": {},
     "execution_count": 7
    }
   ],
   "metadata": {}
  },
  {
   "cell_type": "markdown",
   "source": [
    "<a id=\"monitoring\"></a>\n",
    "## Monitoring Indicators"
   ],
   "metadata": {}
  },
  {
   "cell_type": "markdown",
   "source": [
    "<a id=\"ac\"></a>\n",
    "### Age 75+, on ACEI or loop, no renal function/electrolytes test (MO_P13)"
   ],
   "metadata": {}
  },
  {
   "cell_type": "code",
   "execution_count": 8,
   "source": [
    "Image(url= \"../output/figures/plot_ac.jpeg\")"
   ],
   "outputs": [
    {
     "output_type": "execute_result",
     "data": {
      "text/plain": [
       "<IPython.core.display.Image object>"
      ],
      "text/html": [
       "<img src=\"../output/plot_ac.jpeg\"/>"
      ]
     },
     "metadata": {},
     "execution_count": 8
    }
   ],
   "metadata": {}
  },
  {
   "cell_type": "markdown",
   "source": [
    "<a id=\"me\"></a>\n",
    "### Methotrexate audit (MO_P15)"
   ],
   "metadata": {}
  },
  {
   "cell_type": "markdown",
   "source": [
    "<a id=\"me_no_fbc\"></a>\n",
    "#### On methotrexate without recorded full blood count"
   ],
   "metadata": {}
  },
  {
   "cell_type": "code",
   "execution_count": 9,
   "source": [
    "Image(url= \"../output/figures/plot_me_no_fbc.jpeg\")"
   ],
   "outputs": [
    {
     "output_type": "execute_result",
     "data": {
      "text/plain": [
       "<IPython.core.display.Image object>"
      ],
      "text/html": [
       "<img src=\"../output/plot_me_no_fbc.jpeg\"/>"
      ]
     },
     "metadata": {},
     "execution_count": 9
    }
   ],
   "metadata": {}
  },
  {
   "cell_type": "markdown",
   "source": [
    "<a id=\"me_no_lft\"></a>\n",
    "#### On methotrexate without recorded liver function test"
   ],
   "metadata": {}
  },
  {
   "cell_type": "code",
   "execution_count": 10,
   "source": [
    "Image(url= \"../output/figures/plot_me_no_lft.jpeg\")"
   ],
   "outputs": [
    {
     "output_type": "execute_result",
     "data": {
      "text/plain": [
       "<IPython.core.display.Image object>"
      ],
      "text/html": [
       "<img src=\"../output/plot_me_no_lft.jpeg\"/>"
      ]
     },
     "metadata": {},
     "execution_count": 10
    }
   ],
   "metadata": {}
  },
  {
   "cell_type": "markdown",
   "source": [
    "<a id=\"li\"></a>\n",
    "### On lithium without recent lithium test (MO_P17)"
   ],
   "metadata": {}
  },
  {
   "cell_type": "code",
   "execution_count": 11,
   "source": [
    "Image(url= \"../output/figures/plot_li.jpeg\")"
   ],
   "outputs": [
    {
     "output_type": "execute_result",
     "data": {
      "text/plain": [
       "<IPython.core.display.Image object>"
      ],
      "text/html": [
       "<img src=\"../output/plot_li.jpeg\"/>"
      ]
     },
     "metadata": {},
     "execution_count": 11
    }
   ],
   "metadata": {}
  },
  {
   "cell_type": "markdown",
   "source": [
    "<a id=\"am\"></a>\n",
    "### On amiodarone without recent thyroid function test (MO_P18)"
   ],
   "metadata": {}
  },
  {
   "cell_type": "code",
   "execution_count": 12,
   "source": [
    "Image(url= \"../output/figures/plot_am.jpeg\")"
   ],
   "outputs": [
    {
     "output_type": "execute_result",
     "data": {
      "text/plain": [
       "<IPython.core.display.Image object>"
      ],
      "text/html": [
       "<img src=\"../output/plot_am.jpeg\"/>"
      ]
     },
     "metadata": {},
     "execution_count": 12
    }
   ],
   "metadata": {}
  },
  {
   "cell_type": "markdown",
   "source": [
    "<a id=\"other\"></a>\n",
    "## Other Indicators\n"
   ],
   "metadata": {}
  },
  {
   "cell_type": "markdown",
   "source": [
    "<a id=\"g\"></a>\n",
    "### Asthma and non-selective BB (AS_P3G)"
   ],
   "metadata": {}
  },
  {
   "cell_type": "code",
   "execution_count": 13,
   "source": [
    "Image(url= \"../output/figures/plot_g.jpeg\")"
   ],
   "outputs": [
    {
     "output_type": "execute_result",
     "data": {
      "text/plain": [
       "<IPython.core.display.Image object>"
      ],
      "text/html": [
       "<img src=\"../output/plot_g.jpeg\"/>"
      ]
     },
     "metadata": {},
     "execution_count": 13
    }
   ],
   "metadata": {}
  },
  {
   "cell_type": "markdown",
   "source": [
    "<a id=\"i\"></a>\n",
    "### Heart failure and oral NSAID (HF_P3I)"
   ],
   "metadata": {}
  },
  {
   "cell_type": "code",
   "execution_count": 14,
   "source": [
    "Image(url= \"../output/figures/plot_i.jpeg\")"
   ],
   "outputs": [
    {
     "output_type": "execute_result",
     "data": {
      "text/plain": [
       "<IPython.core.display.Image object>"
      ],
      "text/html": [
       "<img src=\"../output/plot_i.jpeg\"/>"
      ]
     },
     "metadata": {},
     "execution_count": 14
    }
   ],
   "metadata": {}
  },
  {
   "cell_type": "markdown",
   "source": [
    "<a id=\"k\"></a>\n",
    "### eGFR <45 and oral NSAID (KI_P3K)"
   ],
   "metadata": {}
  },
  {
   "cell_type": "code",
   "execution_count": 15,
   "source": [
    "Image(url= \"../output/figures/plot_k.jpeg\")"
   ],
   "outputs": [
    {
     "output_type": "execute_result",
     "data": {
      "text/plain": [
       "<IPython.core.display.Image object>"
      ],
      "text/html": [
       "<img src=\"../output/plot_k.jpeg\"/>"
      ]
     },
     "metadata": {},
     "execution_count": 15
    }
   ],
   "metadata": {}
  },
  {
   "cell_type": "markdown",
   "source": [
    "<a id=\"composites\"></a>\n",
    "## Composite Indicators"
   ],
   "metadata": {}
  },
  {
   "cell_type": "code",
   "execution_count": 16,
   "source": [
    "Image(url= \"../output/figures/plot_k.jpeg\")"
   ],
   "outputs": [
    {
     "output_type": "execute_result",
     "data": {
      "text/plain": [
       "<IPython.core.display.Image object>"
      ],
      "text/html": [
       "<img src=\"../output/plot_k.jpeg\"/>"
      ]
     },
     "metadata": {},
     "execution_count": 16
    }
   ],
   "metadata": {}
  },
  {
   "cell_type": "markdown",
   "source": [
    "<a id=\"composite_gi_bleed\"></a>\n",
    "### GI Bleed Composite Indicator"
   ],
   "metadata": {}
  },
  {
   "cell_type": "code",
   "execution_count": 17,
   "source": [
    "Image(url= \"../output/figures/plot_gi_bleed_composite.jpeg\")"
   ],
   "outputs": [
    {
     "output_type": "execute_result",
     "data": {
      "text/plain": [
       "<IPython.core.display.Image object>"
      ],
      "text/html": [
       "<img src=\"../output/plot_gi_bleed_composite.jpeg\"/>"
      ]
     },
     "metadata": {},
     "execution_count": 17
    }
   ],
   "metadata": {}
  },
  {
   "cell_type": "markdown",
   "source": [
    "<a id=\"composite_monitoring\"></a>\n",
    "### Monitoring Composite Indicator]"
   ],
   "metadata": {}
  },
  {
   "cell_type": "code",
   "execution_count": 18,
   "source": [
    "Image(url= \"../output/figures/plot_monitoring_composite.jpeg\")"
   ],
   "outputs": [
    {
     "output_type": "execute_result",
     "data": {
      "text/plain": [
       "<IPython.core.display.Image object>"
      ],
      "text/html": [
       "<img src=\"../output/plot_monitoring_composite.jpeg\"/>"
      ]
     },
     "metadata": {},
     "execution_count": 18
    }
   ],
   "metadata": {}
  },
  {
   "cell_type": "markdown",
   "source": [
    "<a id=\"composite_other\"></a>\n",
    "### Other Composite Indicator"
   ],
   "metadata": {}
  },
  {
   "cell_type": "code",
   "execution_count": 19,
   "source": [
    "Image(url= \"../output/figures/plot_other_prescribing_composite.jpeg\")"
   ],
   "outputs": [
    {
     "output_type": "execute_result",
     "data": {
      "text/plain": [
       "<IPython.core.display.Image object>"
      ],
      "text/html": [
       "<img src=\"../output/plot_other_prescribing_composite.jpeg\"/>"
      ]
     },
     "metadata": {},
     "execution_count": 19
    }
   ],
   "metadata": {}
  },
  {
   "cell_type": "markdown",
   "source": [
    "<a id=\"composite_all\"></a>\n",
    "### Combined Composite Indicator"
   ],
   "metadata": {}
  },
  {
   "cell_type": "code",
   "execution_count": 20,
   "source": [
    "Image(url= \"../output/figures/plot_all_composite.jpeg\")"
   ],
   "outputs": [
    {
     "output_type": "execute_result",
     "data": {
      "text/plain": [
       "<IPython.core.display.Image object>"
      ],
      "text/html": [
       "<img src=\"../output/plot_all_composite.jpeg\"/>"
      ]
     },
     "metadata": {},
     "execution_count": 20
    }
   ],
   "metadata": {}
  }
 ],
 "metadata": {
  "kernelspec": {
   "display_name": "Python 3",
   "language": "python",
   "name": "python3"
  },
  "language_info": {
   "codemirror_mode": {
    "name": "ipython",
    "version": 3
   },
   "file_extension": ".py",
   "mimetype": "text/x-python",
   "name": "python",
   "nbconvert_exporter": "python",
   "pygments_lexer": "ipython3",
   "version": "3.9.5"
  }
 },
 "nbformat": 4,
 "nbformat_minor": 5
}