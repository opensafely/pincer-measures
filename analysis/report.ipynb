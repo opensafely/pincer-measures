{
 "cells": [
  {
   "cell_type": "markdown",
   "id": "2360d22b",
   "metadata": {},
   "source": [
    "<h1 align=\"center\">Changes in PINCER indicators throughout the COVID-19 pandemic</h1>\n",
    "\n",
    "Pharmacist-led information technology intervention (PINCER) is an effective way to reduce errors in prescription and medication monitoring which are responsible for a large proportion of adverse drug events. This is achieved through the monitoring of 14 PINCER indicators.\n",
    "\n",
    "The purpose of this notebook is to describe practice level changes in adherence to each of the PINCER indicators  throughout the COVID-19 pandemic. For each indicator, the number of unique patients experiencing hazardous prescribing described by a given indicator at any point during the study period is provided. The total number of hazardous prescribing events for each indicator is also shown.  Practice level monthly rates of hazardous prescribing are calculated, ranked and used to calculate deciles of activity for each indicator, which are represented as decile charts.\n",
    "\n",
    "The 14 PINCER measures include:\n",
    "* [Gastrointestinal (GI) Bleed Indicators](#gi_bleed)\n",
    "    * [Age 65+, on oral NSAID without gastroprotection (GI_P3A)](#a)\n",
    "    * [H/O peptic ulcer, on oral NSAID without gastroprotection (GI_P3B)](#b)\n",
    "    * [H/O peptic ulcer, on OAC without gastroprotection (GI_P3C)](#c)\n",
    "    * [On OAC and oral NSAID (GI_P3D)](#d)\n",
    "    * [On OAC and antiplatelet without gastroprotection (GI_P3E)](#e)\n",
    "    * [On aspirin and antiplatelet without gastroprotection (GI_P3F)](#f)\n",
    "* [Monitoring Indicators](#monitoring)\n",
    "    * [Age 75+, on ACEI or loop, no renal function/electrolytes test (MO_P13)](#ac)\n",
    "    * [Methotrexate audit (MO_P15)](#me)\n",
    "        * [On methotrexate without recorded full blood count (FBC)](#me_no_fbc)\n",
    "        * [On methotrexate without recorded liver functon test (LFT)](#me_no_lft)\n",
    "    * [On lithium without recent lithium test (MO_P17)](#li)\n",
    "    * [On amiodarone without recent thyroid function test (TFT) (MO_P18)](#am)\n",
    "* [Other Indicators](#other)\n",
    "    * [Asthma and non-selective BB (AS_P3G)](#g)\n",
    "    * [Heart failure and oral NSAID (HF_P3I)](#i)\n",
    "    \n",
    "There are also a set of [composite indicators](#composites) which indicate the number of people with 1 or more of each of the broad measure categories:\n",
    "* [GI Bleed Composite Indicator](#composite_gi_bleed)\n",
    "* [Monitoring Composite Indicator](#composite_monitoring)\n",
    "* [Other Composite Indicator](#composite_other)\n",
    "* [Combined Composite Indicator](#composite_all)"
   ]
  },
  {
   "cell_type": "code",
   "execution_count": 1,
   "id": "a66ac9ff",
   "metadata": {},
   "outputs": [
    {
     "ename": "KeyError",
     "evalue": "'k'",
     "output_type": "error",
     "traceback": [
      "\u001b[0;31m---------------------------------------------------------------------------\u001b[0m",
      "\u001b[0;31mKeyError\u001b[0m                                  Traceback (most recent call last)",
      "\u001b[0;32m/var/folders/88/j93fyzzx15j63k6f67h56z2h0000gr/T/ipykernel_53524/243087145.py\u001b[0m in \u001b[0;36m<module>\u001b[0;34m\u001b[0m\n\u001b[1;32m     37\u001b[0m \u001b[0mother_prescribing_indicators\u001b[0m \u001b[0;34m=\u001b[0m \u001b[0;34m[\u001b[0m\u001b[0;34m\"g\"\u001b[0m\u001b[0;34m,\u001b[0m \u001b[0;34m\"i\"\u001b[0m\u001b[0;34m,\u001b[0m \u001b[0;34m\"k\"\u001b[0m\u001b[0;34m]\u001b[0m\u001b[0;34m\u001b[0m\u001b[0;34m\u001b[0m\u001b[0m\n\u001b[1;32m     38\u001b[0m \u001b[0;32mfor\u001b[0m \u001b[0mi\u001b[0m \u001b[0;32min\u001b[0m \u001b[0mother_prescribing_indicators\u001b[0m\u001b[0;34m:\u001b[0m\u001b[0;34m\u001b[0m\u001b[0;34m\u001b[0m\u001b[0m\n\u001b[0;32m---> 39\u001b[0;31m     \u001b[0mevents\u001b[0m \u001b[0;34m=\u001b[0m \u001b[0mint\u001b[0m\u001b[0;34m(\u001b[0m\u001b[0msummary\u001b[0m\u001b[0;34m[\u001b[0m\u001b[0mi\u001b[0m\u001b[0;34m]\u001b[0m\u001b[0;34m[\u001b[0m\u001b[0;34m'events'\u001b[0m\u001b[0;34m]\u001b[0m\u001b[0;34m)\u001b[0m\u001b[0;34m\u001b[0m\u001b[0;34m\u001b[0m\u001b[0m\n\u001b[0m\u001b[1;32m     40\u001b[0m     \u001b[0mnum_other_events\u001b[0m \u001b[0;34m+=\u001b[0m \u001b[0mevents\u001b[0m\u001b[0;34m\u001b[0m\u001b[0;34m\u001b[0m\u001b[0m\n\u001b[1;32m     41\u001b[0m \u001b[0;34m\u001b[0m\u001b[0m\n",
      "\u001b[0;31mKeyError\u001b[0m: 'k'"
     ]
    }
   ],
   "source": [
    "import pandas as pd\n",
    "import matplotlib.pyplot as plt\n",
    "import matplotlib.image as mpllimg\n",
    "import matplotlib as mpl\n",
    "import json\n",
    "from IPython.display import HTML, display, Markdown, Image\n",
    "import os\n",
    "import numpy as np\n",
    "\n",
    "backend =  os.getenv(\"OPENSAFELY_BACKEND\", \"expectations\")\n",
    "with open(f'../output/indicator_summary_statistics_{backend}.json') as f:\n",
    "        summary = json.load(f)[\"summary\"]\n",
    "\n",
    "with open(f'../output/practice_count_{backend}.json') as f:\n",
    "    practice_count_event = json.load(f)[\"num_practices_event\"]\n",
    "\n",
    "with open(f'../output/practice_count_{backend}.json') as f:\n",
    "    practice_count = json.load(f)[\"num_practices\"]\n",
    "\n",
    "with open(f'../output/medians.json') as f:\n",
    "    medians = json.load(f)[\"summary\"]\n",
    "\n",
    "num_gi_bleed_events = 0\n",
    "num_monitoring_events = 0\n",
    "num_other_events = 0\n",
    "\n",
    "gi_bleed_indicators = [\"a\", \"b\", \"c\", \"d\", \"e\", \"f\"]\n",
    "for i in gi_bleed_indicators:\n",
    "    events = int(summary[i]['events'])\n",
    "    num_gi_bleed_events += events\n",
    "\n",
    "monitoring_indicators = [\"ac\", \"me_no_fbc\", \"me_no_lft\", \"li\", \"am\"]\n",
    "for i in monitoring_indicators:\n",
    "    events = int(summary[i]['events'])\n",
    "    num_monitoring_events += events\n",
    "\n",
    "other_prescribing_indicators = [\"g\", \"i\"]#, \"k\"]\n",
    "for i in other_prescribing_indicators:\n",
    "    events = int(summary[i]['events'])\n",
    "    num_other_events += events\n",
    "\n",
    "\n",
    "title_mapping = {\n",
    "    \"a\": \"Age >= 65 & NSAID\",  # \"NSAID without gastroprotection, age >=65\",\n",
    "    \"b\": \"PU & NSAID\",  # \"NSAID without gastroprotection, H/O peptic ulcer\",\n",
    "    \"c\": \"PU & antiplatelet\",  # \"Antiplatelet without gastroprotection, H/O peptic ulcer\",\n",
    "    \"d\": \"Warfarin/DOAC & NSAID\",  # \"DOAC with warfarin\",\n",
    "    # \"Anticoagulation and antiplatelet, no gastroprotection\",\n",
    "    \"e\": \"Warfarin/DOAC & antiplatelet\",\n",
    "    # \"Aspirin and antiplatelet, no gastroprotection\",\n",
    "    \"f\": \"Aspirin & other antiplatelet\",\n",
    "    \"g\": \"Asthma & beta-blocker\",  # \"Asthma and non-selective beta-blocker\",\n",
    "    \"i\": \"HF & NSAID\",  # \"Heart failure and NSAID\",\n",
    "    \"k\": \"CRF & NSAID\",  # \"Chronic renal impairment and NSAID\",\n",
    "    # \"ACE inhibitor or loop diuretic without renal function/electrolyte test\",\n",
    "    \"ac\": \"ACEI or loop diuretic, no blood tests\",\n",
    "    # \"Methotrexate without full blood count\",\n",
    "    \"me_no_fbc\": \"Methotrexate and no FBC\",\n",
    "    # \"Methotrexate without liver function test\",\n",
    "    \"me_no_lft\": \"Methotrexate and no LFT\",\n",
    "    # \"Lithium without lithium concentration test\",\n",
    "    \"li\": \"Lithium and no level recording\",\n",
    "    \"am\": \"Amiodarone and no TFT\",  # \"Amiodarone without thyroid function test\",\n",
    "    ### Summary categories\n",
    "    \"gi_bleed\": \"Indicators associated with gastrointestinal bleeding\",\n",
    "    \"monitoring\": \"Indicators associated blood test monitoring\",\n",
    "    \"other\": \"Indicators associated with cautioned medication in other conditions (including heart failure, asthma and acute kidney injury)\",\n",
    "}\n",
    "\n",
    "def show_summary(indicator):\n",
    "    display(\n",
    "    Markdown(f\"Number of practices with at least one hazardous prescribing event throughout the study period: {summary[indicator]['num_practices']} ({summary[indicator]['percent_practice']}%)\"),\n",
    "    Markdown(f\"Number of unique patients at risk of a hazardous prescribing event throughout the study period: {summary[indicator]['patients_denominator']:,}\"),\n",
    "    Markdown(f\"Number of unique patients experiencing at least one hazardous prescribing event throughout the study period: {summary[indicator]['patients_numerator']:,}\"),\n",
    "    Markdown(f\"Number of hazardous prescribing events throughout the study period: {int(summary[indicator]['events']):,}\"),\n",
    "    Markdown(f\"Q1 2020 median proportion: {round(medians[indicator]['pre'], 4)}\"),\n",
    "    Markdown(f\"Q1 2021 median proportion: {round(medians[indicator]['post'], 4)}\")\n",
    ")\n",
    "\n",
    "def show_image(path):\n",
    "\n",
    "    img=Image(path)\n",
    "    display(img)\n"
   ]
  },
  {
   "cell_type": "code",
   "execution_count": null,
   "id": "c1755ab9",
   "metadata": {},
   "outputs": [],
   "source": [
    "indicator_order = ['gi_bleed','a','b','c','d','e','f', 'monitoring','ac','me_no_fbc','me_no_lft','li','am','other','g','i']#,'k']\n",
    "column_names = {\"pre\": \"Q1 median proportion 2020\",\n",
    "                \"post\": \"Q1 median proportion 2021\",\n",
    "                \"patients_numerator\": \"Numerator\",\n",
    "                \"patients_denominator\": \"Denominator\",\n",
    "                \"ratio\": \"%\",\n",
    "                \"events\": \"Number of hazardous prescribing events\",\n",
    "                \"events_per_patient\": \"Ratio of events to patients\",\n",
    "                \"num_practices\": \"Number of practices with at least one hazardous prescribing event\",\n",
    "                \"percent_practice\": \"% of total number of practices\",\n",
    "                \"practice_string\": \"Number of practices with at least one hazardous prescribing event (% of total number of practices)\"\n",
    "                }\n",
    "\n",
    "def generate_summary_table():\n",
    "\n",
    "    summary_table = pd.DataFrame.from_dict(summary).T.reindex(indicator_order)\n",
    "    medians_table = pd.DataFrame.from_dict(medians).T.reindex(indicator_order).round(2)\n",
    "\n",
    "    summary_table_out = (summary_table\n",
    "                         .assign(patients_numerator=pd.to_numeric(summary_table.patients_numerator, downcast=\"integer\"))\n",
    "                         .assign(patients_denominator=pd.to_numeric(summary_table.patients_denominator, downcast=\"integer\"))\n",
    "                         .assign(num_practices=pd.to_numeric(summary_table.num_practices, downcast=\"integer\"))\n",
    "                         )\n",
    "\n",
    "    ### Missing values mean that we can't use the above method to convert the event count to integers\n",
    "    summary_table_out['events'] = summary_table_out['events'].astype('Int64')\n",
    "    summary_table_out['ratio'] = round(\n",
    "        100*(summary_table_out['patients_numerator']/summary_table_out['patients_denominator']), 2)\n",
    "    summary_table_out['events_per_patient'] = round(\n",
    "        100*(summary_table_out['events']/summary_table_out['patients_numerator']), 2)\n",
    "\n",
    "    practice_string = summary_table_out.num_practices.map(\n",
    "        str) + \" (\" + summary_table_out.percent_practice.map(str) + \"%)\"\n",
    "    practice_string[np.isnan(summary_table_out.percent_practice)] = \"-\"\n",
    "    summary_table_out['practice_string'] = practice_string\n",
    "\n",
    "    final_table = summary_table_out.join(medians_table)[column_names.keys()]\n",
    "    final_table_display = final_table.rename(columns=column_names, index=title_mapping)\n",
    "\n",
    "    display(final_table_display)\n"
   ]
  },
  {
   "cell_type": "markdown",
   "id": "86256b98",
   "metadata": {},
   "source": [
    "## Summary"
   ]
  },
  {
   "cell_type": "code",
   "execution_count": null,
   "id": "65adfa86",
   "metadata": {},
   "outputs": [],
   "source": [
    "display(\n",
    "    Markdown(f\"Total number of hazardous prescribing events throughout the study period: {int(summary['total_events'])}\"),\n",
    "    Markdown(f\"Number of unique patients at risk of a hazardous prescribing event throughout the study period: {summary['total_patients_denominator']}\"),\n",
    "    Markdown(f\"Number of unique patients experiencing a hazardous prescribing event throughout the study period: {summary['total_patients']}\"),\n",
    "    Markdown(f\"Number of practices with at least one hazardous prescribing event throughout the study period: {practice_count_event} ({round((practice_count_event/practice_count), 2) * 100}%)\"),\n",
    "       )"
   ]
  },
  {
   "cell_type": "markdown",
   "id": "505d2f80",
   "metadata": {},
   "source": [
    "Relevant information for each indicator is summarised in the table below."
   ]
  },
  {
   "cell_type": "code",
   "execution_count": null,
   "id": "26626515",
   "metadata": {},
   "outputs": [],
   "source": [
    "generate_summary_table()"
   ]
  },
  {
   "cell_type": "markdown",
   "id": "55d061b4",
   "metadata": {},
   "source": [
    "<a id=\"gi_bleed\"></a>\n",
    "## Gastrointestinal (GI) Bleed Indicators\n"
   ]
  },
  {
   "cell_type": "code",
   "execution_count": null,
   "id": "ffc0198e",
   "metadata": {},
   "outputs": [],
   "source": [
    "display(\n",
    "    Markdown(f\"Number of practices with at least one hazardous prescribing event throughout the study period: {summary['gi_bleed']['num_practices']}\"),\n",
    "    Markdown(f\"Number of unique patients at risk of a hazardous prescribing event throughout the study period: {summary['gi_bleed']['patients_denominator']:,}\"),\n",
    "    Markdown(f\"Number of unique patients experiencing at least one hazardous prescribing event throughout the study period: {summary['gi_bleed']['patients_numerator']:,}\"),\n",
    "    Markdown(f\"Number of hazardous prescribing events throughout the study period: {num_gi_bleed_events:,}\")\n",
    "       )"
   ]
  },
  {
   "cell_type": "markdown",
   "id": "64f6e044",
   "metadata": {},
   "source": [
    "<a id=\"a\"></a>\n",
    "### Age 65+, on oral NSAID without gastroprotection (GI_P3A)\n",
    "\n",
    "Prescription of an oral NSAID in the previous 3 months to patients aged 65 or above who have been co-prescribed an ulcer healing drug in the previous 3 months.  "
   ]
  },
  {
   "cell_type": "code",
   "execution_count": null,
   "id": "ccfb0412",
   "metadata": {},
   "outputs": [],
   "source": [
    "show_summary('a')"
   ]
  },
  {
   "cell_type": "code",
   "execution_count": null,
   "id": "0b2655c5",
   "metadata": {},
   "outputs": [],
   "source": [
    "show_image(\"../output/figures/plot_a.jpeg\")"
   ]
  },
  {
   "cell_type": "markdown",
   "id": "b49be6de",
   "metadata": {},
   "source": [
    "<a id=\"b\"></a>\n",
    "### H/O peptic ulcer, on oral NSAID without gastroprotection (GI_P3B)\n",
    "\n",
    "Prescription of an oral NSAID in the previous 3 months to patients with a history of peptic ulceration/gastric bleed."
   ]
  },
  {
   "cell_type": "code",
   "execution_count": null,
   "id": "e888547b",
   "metadata": {},
   "outputs": [],
   "source": [
    "show_summary('b')"
   ]
  },
  {
   "cell_type": "code",
   "execution_count": null,
   "id": "d9d9c69a",
   "metadata": {},
   "outputs": [],
   "source": [
    "show_image(\"../output/figures/plot_b.jpeg\")\n",
    "\n"
   ]
  },
  {
   "cell_type": "markdown",
   "id": "ce4a5a87",
   "metadata": {},
   "source": [
    "<a id=\"c\"></a>\n",
    "### H/O peptic ulcer, on OAC without gastroprotection (GI_P3C)\n",
    "\n",
    "Prescription of an aniplatelet drug in the previous 3 months in patients with a history of peptic ulceration/gatric bleed."
   ]
  },
  {
   "cell_type": "code",
   "execution_count": null,
   "id": "45a7ce81",
   "metadata": {},
   "outputs": [],
   "source": [
    "show_summary('c')"
   ]
  },
  {
   "cell_type": "code",
   "execution_count": null,
   "id": "952f21b0",
   "metadata": {},
   "outputs": [],
   "source": [
    "show_image(\"../output/figures/plot_c.jpeg\")"
   ]
  },
  {
   "cell_type": "markdown",
   "id": "65304b01",
   "metadata": {},
   "source": [
    "<a id=\"d\"></a>\n",
    "### On OAC and oral NSAID (GI_P3D)\n",
    "\n",
    "Prescription of warfarin or a DOAC in the previous 3 months and a preascription of an oral NSAID in the previous 3 months."
   ]
  },
  {
   "cell_type": "code",
   "execution_count": null,
   "id": "75c37c54",
   "metadata": {},
   "outputs": [],
   "source": [
    "show_summary('d')"
   ]
  },
  {
   "cell_type": "code",
   "execution_count": null,
   "id": "ba3f9cd1",
   "metadata": {},
   "outputs": [],
   "source": [
    "show_image(\"../output/figures/plot_d.jpeg\")"
   ]
  },
  {
   "cell_type": "markdown",
   "id": "f97f2d61",
   "metadata": {},
   "source": [
    "<a id=\"e\"></a>\n",
    "### On OAC and antiplatelet without gastroprotection (GI_P3E)\n",
    "\n",
    "Prescription of warfarin or a DOAC in combination with an antiplatelet drug in the previous 3 months without co-prescription of an ulcer-healing drug.\n",
    "\n",
    "Note: \"In combination\" is defined as a co-prescription within 28 days of each other.\n"
   ]
  },
  {
   "cell_type": "code",
   "execution_count": null,
   "id": "ba881545",
   "metadata": {},
   "outputs": [],
   "source": [
    "show_summary('e')"
   ]
  },
  {
   "cell_type": "code",
   "execution_count": null,
   "id": "363ec34a",
   "metadata": {},
   "outputs": [],
   "source": [
    "show_image(\"../output/figures/plot_e.jpeg\")"
   ]
  },
  {
   "cell_type": "markdown",
   "id": "f30a07fb",
   "metadata": {},
   "source": [
    "<a id=\"f\"></a>\n",
    "### On aspirin and antiplatelet without gastroprotection (GI_P3F)\n",
    "\n",
    "Prescription of aspirin in combination with another antiplatelet drug in the previous 3 months without co-prescription of an ulcer-healing drug.\n",
    "\n",
    "Note: \"In combination\" is defined as a co-prescription within 28 days of each other."
   ]
  },
  {
   "cell_type": "code",
   "execution_count": null,
   "id": "449a3569",
   "metadata": {},
   "outputs": [],
   "source": [
    "show_summary('f')"
   ]
  },
  {
   "cell_type": "code",
   "execution_count": null,
   "id": "0046221b",
   "metadata": {},
   "outputs": [],
   "source": [
    "show_image(\"../output/figures/plot_f.jpeg\")"
   ]
  },
  {
   "cell_type": "markdown",
   "id": "bca4132e",
   "metadata": {},
   "source": [
    "<a id=\"monitoring\"></a>\n",
    "## Monitoring Indicators"
   ]
  },
  {
   "cell_type": "code",
   "execution_count": null,
   "id": "50ef9031",
   "metadata": {},
   "outputs": [],
   "source": [
    "display(\n",
    "    Markdown(f\"Number of practices with at least one hazardous prescribing event throughout the study period: {summary['monitoring']['num_practices']}\"),\n",
    "    Markdown(f\"Number of unique patients at risk of a hazardous prescribing event throughout the study period: {summary['monitoring']['patients_denominator']:,}\"),\n",
    "    Markdown(f\"Number of unique patients experiencing at least one hazardous prescribing event throughout the study period: {summary['monitoring']['patients_numerator']:,}\"),\n",
    "    Markdown(f\"Number of hazardous prescribing events throughout the study period: {num_monitoring_events:,}\")\n",
    "       )"
   ]
  },
  {
   "cell_type": "markdown",
   "id": "b6c2b3d0",
   "metadata": {},
   "source": [
    "<a id=\"ac\"></a>\n",
    "### Age 75+, on ACEI or loop, no renal function/electrolytes test (MO_P13)\n",
    "\n",
    "Absence of a computer-recorded check of renal function or electrolytes in the previous 15 months in patients aged 75 or over who have been prescripted an ACEi of loop diuretic in the previous 6 months."
   ]
  },
  {
   "cell_type": "code",
   "execution_count": null,
   "id": "e6479fd7",
   "metadata": {},
   "outputs": [],
   "source": [
    "show_summary('ac')"
   ]
  },
  {
   "cell_type": "code",
   "execution_count": null,
   "id": "08a3a1e4",
   "metadata": {},
   "outputs": [],
   "source": [
    "show_image(\"../output/figures/plot_ac.jpeg\")"
   ]
  },
  {
   "cell_type": "markdown",
   "id": "573f3918",
   "metadata": {},
   "source": [
    "<a id=\"me\"></a>\n",
    "### Methotrexate audit (MO_P15)"
   ]
  },
  {
   "cell_type": "markdown",
   "id": "b207a55d",
   "metadata": {},
   "source": [
    "<a id=\"me_no_fbc\"></a>\n",
    "#### On methotrexate without recorded full blood count\n",
    "\n",
    "Absence of a recorded full blood count in the previous 3 months in patients who have been receiving a methotrexate prescription for at least 3 months."
   ]
  },
  {
   "cell_type": "code",
   "execution_count": null,
   "id": "2ec3480b",
   "metadata": {},
   "outputs": [],
   "source": [
    "show_summary('me_no_fbc')"
   ]
  },
  {
   "cell_type": "code",
   "execution_count": null,
   "id": "e29dbdb0",
   "metadata": {},
   "outputs": [],
   "source": [
    "show_image(\"../output/figures/plot_me_no_fbc.jpeg\")"
   ]
  },
  {
   "cell_type": "markdown",
   "id": "1e64f00b",
   "metadata": {},
   "source": [
    "<a id=\"me_no_lft\"></a>\n",
    "#### On methotrexate without recorded liver function test\n",
    "\n",
    "Absence of a recorded liver function test in the previous 3 months in patients who have been receiving a methotrexate prescription for at least 3 months."
   ]
  },
  {
   "cell_type": "code",
   "execution_count": null,
   "id": "a83a9001",
   "metadata": {},
   "outputs": [],
   "source": [
    "show_summary('me_no_lft')"
   ]
  },
  {
   "cell_type": "code",
   "execution_count": null,
   "id": "127994bb",
   "metadata": {},
   "outputs": [],
   "source": [
    "show_image(\"../output/figures/plot_me_no_lft.jpeg\")"
   ]
  },
  {
   "cell_type": "markdown",
   "id": "9b139ee6",
   "metadata": {},
   "source": [
    "<a id=\"li\"></a>\n",
    "### On lithium without recent lithium test (MO_P17)\n",
    "\n",
    "Absence of a recorded check of lithium concentration in the previous 3 months in patients who have been receiving a lithium prescription for at least 3 months."
   ]
  },
  {
   "cell_type": "code",
   "execution_count": null,
   "id": "14b87ebd",
   "metadata": {},
   "outputs": [],
   "source": [
    "show_summary('li')"
   ]
  },
  {
   "cell_type": "code",
   "execution_count": null,
   "id": "67a34cb3",
   "metadata": {},
   "outputs": [],
   "source": [
    "show_image(\"../output/figures/plot_li.jpeg\")"
   ]
  },
  {
   "cell_type": "markdown",
   "id": "7717ae65",
   "metadata": {},
   "source": [
    "<a id=\"am\"></a>\n",
    "### On amiodarone without recent thyroid function test (MO_P18)\n",
    "\n",
    "Absence of a recorded thyroid function test in the previous 6 months in patients who have been receiving a lithium prescription for at least 6 months."
   ]
  },
  {
   "cell_type": "code",
   "execution_count": null,
   "id": "9e508dd3",
   "metadata": {},
   "outputs": [],
   "source": [
    "show_summary('am')"
   ]
  },
  {
   "cell_type": "code",
   "execution_count": null,
   "id": "8e76265b",
   "metadata": {},
   "outputs": [],
   "source": [
    "show_image(\"../output/figures/plot_am.jpeg\")"
   ]
  },
  {
   "cell_type": "markdown",
   "id": "e1fa99b8",
   "metadata": {},
   "source": [
    "<a id=\"other\"></a>\n",
    "## Other Indicators\n"
   ]
  },
  {
   "cell_type": "code",
   "execution_count": null,
   "id": "8299968a",
   "metadata": {},
   "outputs": [],
   "source": [
    "display(\n",
    "    Markdown(f\"Number of practices with at least one hazardous prescribing event throughout the study period: {summary['other']['num_practices']}\"),\n",
    "    Markdown(f\"Number of unique patients at risk of a hazardous prescribing event throughout the study period: {summary['other']['patients_denominator']:,}\"),\n",
    "    Markdown(f\"Number of unique patients experiencing at least one hazardous prescribing event throughout the study period: {summary['other']['patients_numerator']:,}\"),\n",
    "    Markdown(f\"Number of hazardous prescribing events throughout the study period: {num_other_events:,}\")\n",
    "       )"
   ]
  },
  {
   "cell_type": "markdown",
   "id": "48eca2d0",
   "metadata": {},
   "source": [
    "<a id=\"g\"></a>\n",
    "### Asthma and non-selective BB (AS_P3G)\n",
    "\n",
    "Prescription of a non-selective beta-blocker in the previous 3 months in patients with a history of asthma.\n",
    "\n",
    "Note: History of asthma is defined as patients with a recorded code for asthma without a more recent asthma resolved code."
   ]
  },
  {
   "cell_type": "code",
   "execution_count": null,
   "id": "e6527a58",
   "metadata": {},
   "outputs": [],
   "source": [
    "show_summary('g')"
   ]
  },
  {
   "cell_type": "code",
   "execution_count": null,
   "id": "b0cdb180",
   "metadata": {},
   "outputs": [],
   "source": [
    "show_image(\"../output/figures/plot_g.jpeg\")"
   ]
  },
  {
   "cell_type": "markdown",
   "id": "88ff46dd",
   "metadata": {},
   "source": [
    "<a id=\"i\"></a>\n",
    "### Heart failure and oral NSAID (HF_P3I)\n",
    "\n",
    "Prescription of an oral NSAID in the previous 3 months in patients with heart failure."
   ]
  },
  {
   "cell_type": "code",
   "execution_count": null,
   "id": "05c94bc2",
   "metadata": {},
   "outputs": [],
   "source": [
    "show_summary('i')"
   ]
  },
  {
   "cell_type": "code",
   "execution_count": null,
   "id": "dbd7c031",
   "metadata": {},
   "outputs": [],
   "source": [
    "show_image(\"../output/figures/plot_i.jpeg\")"
   ]
  }
 ],
 "metadata": {
  "interpreter": {
   "hash": "aee8b7b246df8f9039afb4144a1f6fd8d2ca17a180786b69acc140d282b71a49"
  },
  "kernelspec": {
   "display_name": "Python 3.9.6 64-bit",
   "name": "python3"
  },
  "language_info": {
   "codemirror_mode": {
    "name": "ipython",
    "version": 3
   },
   "file_extension": ".py",
   "mimetype": "text/x-python",
   "name": "python",
   "nbconvert_exporter": "python",
   "pygments_lexer": "ipython3",
   "version": "3.8.11"
  }
 },
 "nbformat": 4,
 "nbformat_minor": 5
}
